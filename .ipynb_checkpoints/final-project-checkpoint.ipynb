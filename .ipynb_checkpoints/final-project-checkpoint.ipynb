{
 "cells": [
  {
   "cell_type": "markdown",
   "id": "31dbcf88-2255-4e25-b166-9be74186e66c",
   "metadata": {},
   "source": [
    "# Final Project Preliminary Proposal\n",
    "Audrey Qiu | HCDE 410 | Spring 2022 | Dr. Brock Craft\n",
    "\n",
    "## Motivation\n",
    "Climate change is a challenge we are facing today and as step into the future. One way to be more aware of how we are impacting the natural environment is to pay attention to the resources from which we derive our energy. While alternative energy is clean energy, its  adoption is not as widespread as is necessary for the global temperature to stay within 1.5 degrees Celsius, as established by the 2015 Paris Climate Agreement. For the well-being of human health, the inspiration of nature, and preservation of natural systems, **I hope to uncover the relationships  that arise betweeen renewable energy and health to understand more about the effects of alternative energy methods.**\n",
    "\n",
    "\n",
    "## Data\n",
    "The dataset that I plan to use is from the United Nations' Environment Statistics. The UN is well-established and has resources to be able to collect data from multiple countries. The first dataset I will be looking at is  [\"Energy Indicators\"](https://unstats.un.org/unsd/envstats/Questionnaires/2019/Tables/Energy%20Indicators.xlsx); this dataset defines alternative energy as \"renewable electricity production refers to the proportion of total electricity produced that comes from a renewable origin\". This dataset is openly licensed according to the Open SDG Data Hub. \n",
    "\n",
    "In light of desk research findings, I will be examining how each country's statistics for each cause of death death compares against each other countries' [\"Global health estimates: Leading causes of death\n",
    "\"](https://www.who.int/data/gho/data/themes/mortality-and-global-health-estimates/ghe-leading-causes-of-death). This dataset is open license and is sourced from the World Health Organization.\n",
    "\n",
    "Some possible ethical considerations is thinking about how these datasets are gathered and how is collecting this information directly. Another thing to keep in mind is that relationships does not indicate casuality, these datasets will only be used to explore correlation. These datasets are suitable for addressing my research goal because it looks at the relationship between adoption of renewable energy and health factors.\n",
    "\n",
    "\n",
    "## Unknowns\n",
    "Something that may arise is a time constraint on my end. I will be gone for the third week of May so I will work on tackling my final project one step at a time and plan it accordingly so I will have ample time to complete this assignment while doing my best and thoughtful work."
   ]
  },
  {
   "cell_type": "markdown",
   "id": "e9482a8b-c7a3-4f8c-b924-c2f8bbf5da79",
   "metadata": {},
   "source": [
    "---\n",
    "\n",
    "## Research Questions\n",
    "My research question as I approach understanding the impact of renewable energy adoption is: **How is the production of renewable energy related to the health of the population in the region? How does this compare to the health of those in areas with varying production of renewable energy?**\n",
    "\n",
    "Before I dig into the dirt, here is my hypothesis for this study: __Renewable energy production will have less of a health impact to local populations than the production of other sources of energy.__\n",
    "\n",
    "## Background/Related Work\n",
    "A study published in 2015, reported on how renewable energy production and energy efficiency \"can benefit public health and the climate by displacing emissions from fossil-fuelled electrical generating units\" (Buonocore et al, 2016). These findings indicate that renewable energy itself does not actively benefit the health of proximate populations, but rather, replace the harmful health impacts that are dispelled from the creation of non-renewable energy sources. \n",
    "\n",
    "With this particular study, I see that my original research can be modified to incorporate another layer of complexity. In order to bring my exploration to another level, something additional I can look into are the current top causes of mortality and death and the relationship between these statistics in each country compared against alternative energy production rates. Looking into the relationship between these causes of death and the production of alternative energy would give insight into some of trends that exist on a broad, regional scale.\n",
    "\n",
    "According to the World Health Organization, the top 10 causes of death in descending order are: ischaemic heart disease, stroke, chronic obstructive pulmonary disease, lower respiratory infections, neonatal conditions, trachae/bronchus/lung cancers, Alzheimer's disease/dementia diesease, diahorreal diseases, diabetes mellitus, kidney diseases. Looking at  mortality data can guide decisionmakers on which activities and which resources to allocate to different sectors such as \"transportation, food and agriculture, the environment, as well as health\" (\"The top 10 causes of death\").\n",
    "\n",
    "\n",
    "\n",
    "## Methodology\n",
    "### Data collection\n",
    "The data that I will be using will be from 2 separate domains and sources. The first source is [\"Energy Indicators\"](https://unstats.un.org/unsd/envstats/Questionnaires/2019/Tables/Energy%20Indicators.xlsx), where there are statistics on the production of renewable energy by country. The second source is [\"Global health estimates: Leading causes of death\"](https://www.who.int/data/gho/data/themes/mortality-and-global-health-estimates/ghe-leading-causes-of-death), which is a multi-paged dataset that contains data regarding the different mortality rates by cause and separated by country. Both of these soruces use an open license. After downloading the files for these datasets, I will be transferring them into a Jupyter notebook environment. I will be using the `pandas` library to conduct data analysis. The `pandas` library has a myriad of built-in statistical operations that will be useful while I undergo my analysis.\n",
    "\n",
    "### Analysis\n",
    "I'm planning on investigating the phenomenon by using a mix of descriptive methods. Some of the analytical methods that I will us to answer my question include: finding Pearson's correlation constant for the relationship between renewable energy production and the mortality rate for a particular cause of death in a singular country; and complete this for all 10 causes of death. This statistic will help me understand how closely related countries that produce renewable energy sources are to countries that have higher rates for varying causes of death. The results and specific countries would give insight into identifying some of the root causes and reasons for differences in statistics.\n",
    "\n",
    "In addition, I will calculate the mean statistic for 10 leading causes of death in each country. Comparing these values would aid in comparing how each country fares compared to the global average in mortality causes. In addition, these findings would be helpful in seeing the relationship between each country's renewable energy production rates and which countries are above or below the global average for each cause of death.\n",
    "\n",
    "### Presentation\n",
    "To present and display my findings, I will be using heatmaps, data tables, and bar graphs. For presenting the findings with Pearson's correlation constant, I will be using a heatmap that uses color encoding to show how this statistic varies by country for each leading cause of death. Moreover, I will be presenting the statistics for mean statistics using scatterplots and displaying the mean statistics for each leading cause of death as a horizontal line with zero slope, all charted against the rates of renewable energy production so that each country is a point in each country."
   ]
  },
  {
   "cell_type": "markdown",
   "id": "42a8e203-8db0-45ee-a057-4b84c9c2f45e",
   "metadata": {},
   "source": [
    "## Sources Referenced\n",
    "\n",
    "Buonocore, J., Luckow, P., Norris, G. et al. Health and climate benefits of different energy-efficiency and renewable energy choices. Nature Clim Change 6, 100–105 (2016), https://doi.org/10.1038/nclimate2771.\n",
    "\n",
    "\"The top 10 causes of death\". *World Health Organization (WHO)*, 9 Dec. 2020, https://www.who.int/news-room/fact-sheets/detail/the-top-10-causes-of-death."
   ]
  }
 ],
 "metadata": {
  "kernelspec": {
   "display_name": "Python 3 (ipykernel)",
   "language": "python",
   "name": "python3"
  },
  "language_info": {
   "codemirror_mode": {
    "name": "ipython",
    "version": 3
   },
   "file_extension": ".py",
   "mimetype": "text/x-python",
   "name": "python",
   "nbconvert_exporter": "python",
   "pygments_lexer": "ipython3",
   "version": "3.9.7"
  }
 },
 "nbformat": 4,
 "nbformat_minor": 5
}
